{
 "cells": [
  {
   "cell_type": "code",
   "execution_count": 3,
   "metadata": {},
   "outputs": [
    {
     "name": "stdout",
     "output_type": "stream",
     "text": [
      "Hello World\n"
     ]
    }
   ],
   "source": [
    "print(\"Hello World\")\n",
    "text = \"Text Mining\""
   ]
  },
  {
   "cell_type": "code",
   "execution_count": 36,
   "metadata": {
    "scrolled": true
   },
   "outputs": [
    {
     "name": "stdout",
     "output_type": "stream",
     "text": [
      "Text Mining\n",
      "part of speech\n",
      "42\n",
      "['It', 'was', 'a', 'bright', 'cold', 'day', 'in', 'April', ',', 'and', 'the', 'clocks', 'were', 'striking', 'thirteen', '.']\n",
      "It\n",
      "was\n",
      "in\n",
      "bright\n",
      "It\n",
      "was\n",
      "a\n",
      "bright\n",
      "cold\n",
      "day\n",
      "in\n",
      "April\n",
      ",\n",
      "and\n",
      "the\n",
      "clocks\n",
      "were\n",
      "striking\n",
      "thirteen\n",
      ".\n",
      "Hair colour: brown\n",
      "Eye colour: blue\n",
      "Hair colour:brown\n"
     ]
    },
    {
     "name": "stderr",
     "output_type": "stream",
     "text": [
      "[nltk_data] Downloading package punkt to\n",
      "[nltk_data]     C:\\Users\\rache\\AppData\\Roaming\\nltk_data...\n",
      "[nltk_data]   Package punkt is already up-to-date!\n"
     ]
    },
    {
     "name": "stdout",
     "output_type": "stream",
     "text": [
      "['No', '.', '1111', '(', 'Sanitary', '),', 'dated', 'Ootacamund', ',', 'the', '6th', 'October', '1876', '.', 'From', '-', 'The', 'Honourable', 'W', '.']\n"
     ]
    },
    {
     "name": "stderr",
     "output_type": "stream",
     "text": [
      "[nltk_data] Downloading package averaged_perceptron_tagger to\n",
      "[nltk_data]     C:\\Users\\rache\\AppData\\Roaming\\nltk_data...\n",
      "[nltk_data]   Package averaged_perceptron_tagger is already up-to-\n",
      "[nltk_data]       date!\n"
     ]
    },
    {
     "data": {
      "image/png": "[encoded data removed]",
      "text/plain": [
       "<Figure size 432x288 with 1 Axes>"
      ]
     },
     "metadata": {
      "needs_background": "light"
     },
     "output_type": "display_data"
    },
    {
     "ename": "ModuleNotFoundError",
     "evalue": "No module named 'wordcloud'",
     "output_type": "error",
     "traceback": [
      "\u001b[1;31m---------------------------------------------------------------------------\u001b[0m",
      "\u001b[1;31mModuleNotFoundError\u001b[0m                       Traceback (most recent call last)",
      "\u001b[1;32m<ipython-input-36-e8c4cd4a0c6b>\u001b[0m in \u001b[0;36m<module>\u001b[1;34m\u001b[0m\n\u001b[0;32m     57\u001b[0m \u001b[0mdictionary\u001b[0m\u001b[1;33m=\u001b[0m\u001b[0mCounter\u001b[0m\u001b[1;33m(\u001b[0m\u001b[0mnouns\u001b[0m\u001b[1;33m)\u001b[0m  \u001b[1;31m#this turns the nouns list into a frequency dictionary, where each word and its count is recorded\u001b[0m\u001b[1;33m\u001b[0m\u001b[1;33m\u001b[0m\u001b[0m\n\u001b[0;32m     58\u001b[0m \u001b[1;33m\u001b[0m\u001b[0m\n\u001b[1;32m---> 59\u001b[1;33m \u001b[1;32mfrom\u001b[0m \u001b[0mwordcloud\u001b[0m \u001b[1;32mimport\u001b[0m \u001b[0mWordCloud\u001b[0m\u001b[1;33m\u001b[0m\u001b[1;33m\u001b[0m\u001b[0m\n\u001b[0m\u001b[0;32m     60\u001b[0m \u001b[0mget_ipython\u001b[0m\u001b[1;33m(\u001b[0m\u001b[1;33m)\u001b[0m\u001b[1;33m.\u001b[0m\u001b[0mrun_line_magic\u001b[0m\u001b[1;33m(\u001b[0m\u001b[1;34m'matplotlib'\u001b[0m\u001b[1;33m,\u001b[0m \u001b[1;34m'inline'\u001b[0m\u001b[1;33m)\u001b[0m\u001b[1;33m\u001b[0m\u001b[1;33m\u001b[0m\u001b[0m\n\u001b[0;32m     61\u001b[0m \u001b[1;32mimport\u001b[0m \u001b[0mmatplotlib\u001b[0m\u001b[1;33m.\u001b[0m\u001b[0mpyplot\u001b[0m \u001b[1;32mas\u001b[0m \u001b[0mplt\u001b[0m\u001b[1;33m\u001b[0m\u001b[1;33m\u001b[0m\u001b[0m\n",
      "\u001b[1;31mModuleNotFoundError\u001b[0m: No module named 'wordcloud'"
     ]
    }
   ],
   "source": [
    "text = \"Text Mining\"\n",
    "print(text)\n",
    "text = \"part of speech\"  # An example of a string\n",
    "number = 42  # An example of an integer\n",
    "pi_value = 3.1415  # An example of a float\n",
    "print(text)\n",
    "print(number)\n",
    "sentence = ['It', 'was', 'a','bright', 'cold', 'day', 'in', 'April', ',', 'and', 'the', 'clocks', 'were', 'striking', 'thirteen', '.']\n",
    "print(sentence) # print all elements\n",
    "print(sentence[0]) # print the first element\n",
    "print(sentence[1])\n",
    "print(sentence[6])\n",
    "print(sentence[3])\n",
    "sentence[0:2]\n",
    "for word in sentence:\n",
    "    print(word) # prints each element of the list one after the other\n",
    "haircolour_tuple = ('hair', 'brown')\n",
    "eyecolour_tuple = ('eyes', 'blue')\n",
    "print(\"Hair colour: \" + haircolour_tuple[1]) # prints the 2nd entry in the tuple\n",
    "print(\"Eye colour: \" + eyecolour_tuple[1])\n",
    "print(\"Hair colour:\"+haircolour_tuple[1])\n",
    "import nltk\n",
    "from nltk.tokenize import word_tokenize\n",
    "nltk.download('punkt')\n",
    "\n",
    "file = open('\\\\Users\\\\rache\\\\Downloads\\\\nls-text-indiaPapers\\\\nls-text-indiaPapers\\\\74457530.txt','r')  # replace the path with the one on your computer\n",
    "mhbi74457530_raw = file.read()\n",
    "mhbi74457530_tokens = word_tokenize(mhbi74457530_raw)\n",
    "mhbi74457530_tokens_lc = [word.lower() for word in mhbi74457530_tokens]\n",
    "mhbi74457530_tokens_lc[0:20]\n",
    "\n",
    "from nltk.corpus import PlaintextCorpusReader\n",
    "\n",
    "corpus_root = '\\\\Users\\\\rache\\\\Downloads\\\\nls-text-indiaPapers\\\\nls-text-indiaPapers\\\\'\n",
    "mhbi_wordlists = PlaintextCorpusReader(corpus_root, '.*txt', encoding='latin1')\n",
    "mhbi_corpus_tokens = mhbi_wordlists.words()\n",
    "print(mhbi_corpus_tokens[:20])\n",
    "\n",
    "nltk.download('averaged_perceptron_tagger')\n",
    "from nltk.tag import pos_tag\n",
    "\n",
    "mhbi74457530_tagged = nltk.pos_tag(mhbi74457530_tokens)\n",
    "mhbi74457530_tagged[87:109]\n",
    "\n",
    "nouns = [] \n",
    "nouns = [word.lower() for (word, pos) in mhbi74457530_tagged if (pos == 'NN' or pos == 'NNS')] \n",
    "nouns[:20]\n",
    "\n",
    "# this first line is used so that the plot is rendered inline with the text in the notebook \n",
    "%matplotlib inline\n",
    "\n",
    "from nltk.probability import FreqDist\n",
    "fdist = FreqDist(nouns)\n",
    "fdist.plot(20,title='Frequency distribution for 20 most common nouns')\n",
    "\n",
    "from collections import Counter\n",
    "dictionary=Counter(nouns)  #this turns the nouns list into a frequency dictionary, where each word and its count is recorded\n",
    "\n",
    "from wordcloud import WordCloud\n",
    "%matplotlib inline\n",
    "import matplotlib.pyplot as plt\n",
    "cloud = WordCloud(max_font_size=80,colormap=\"hsv\").generate_from_frequencies(dictionary)\n",
    "plt.rcParams[\"figure.figsize\"] = (16,12)   # this line specifies the size of the graph\n",
    "plt.imshow(cloud, interpolation='bilinear')  # this line specifies how the words are layed out in the word cloud\n",
    "plt.axis('off')\n",
    "plt.show()\n",
    "\n",
    "import os\n",
    "fileNames =[]\n",
    "dir = \"\\\\Users\\\\rache\\\\Downloads\\\\nls-text-indiaPapers\\\\nls-text-indiaPapers\\\\\"\n",
    "\n",
    "for fileName in os.listdir(dir):\n",
    "    if fileName.endswith(\".txt\"):\n",
    "        if fileName != \"readme.txt\":\n",
    "            fileNames.append(fileName)\n",
    "print(\"Size of this corpus:\")\n",
    "print(len(fileNames))"
   ]
  },
  {
   "cell_type": "code",
   "execution_count": null,
   "metadata": {},
   "outputs": [],
   "source": [
    "from wordcloud import WordCloud\n",
    "%matplotlib inline\n",
    "import matplotlib.pyplot as plt\n",
    "cloud = WordCloud(max_font_size=80,colormap=\"hsv\").generate_from_frequencies(dictionary)\n",
    "plt.rcParams[\"figure.figsize\"] = (16,12)   # this line specifies the size of the graph\n",
    "plt.imshow(cloud, interpolation='bilinear')  # this line specifies how the words are layed out in the word cloud\n",
    "plt.axis('off')\n",
    "plt.show()\n",
    "\n",
    "import os\n",
    "fileNames =[]\n",
    "dir = \"\\\\Users\\\\rache\\\\Downloads\\\\nls-text-indiaPapers\\\\nls-text-indiaPapers\\\\\"\n",
    "\n",
    "for fileName in os.listdir(dir):\n",
    "    if fileName.endswith(\".txt\"):\n",
    "        if fileName != \"readme.txt\":\n",
    "            fileNames.append(fileName)\n",
    "print(\"Size of this corpus:\")\n",
    "print(len(fileNames))"
   ]
  },
  {
   "cell_type": "code",
   "execution_count": null,
   "metadata": {},
   "outputs": [],
   "source": [
    "import os\n",
    "fileNames =[]\n",
    "dir = \"\\\\Users\\\\rache\\\\Downloads\\\\nls-text-indiaPapers\\\\nls-text-indiaPapers\\\\\"\n",
    "\n",
    "for fileName in os.listdir(dir):\n",
    "    if fileName.endswith(\".txt\"):\n",
    "        if fileName != \"readme.txt\":\n",
    "            fileNames.append(fileName)\n",
    "print(\"Size of this corpus:\")\n",
    "print(len(fileNames))\n",
    "\n",
    "outputdir = \"\\\\Users\\\\rache\\\\Downloads\\\\nls-text-indiaPapers\\\\nls-text-indiaPapers\\\\\" #specify the output directory path on your own computer here\n",
    "\n",
    "for fileName in fileNames:\n",
    "    fileID=fileName.strip()\n",
    "\n",
    "    filepath=dir + fileName\n",
    "    file = open(filepath,'r', encoding='latin1')\n",
    "    rawText = file.read()\n",
    "    print(\"POS tagging file: \" + filepath)\n",
    "    sentences = nltk.sent_tokenize(rawText)\n",
    "    tokenised = [nltk.word_tokenize(sent) for sent in sentences]\n",
    "    posTagged = [nltk.pos_tag(sent) for sent in tokenised]\n",
    "    file.close()\n",
    "    \n",
    "    file_content=\"\"\n",
    "    for sent in posTagged:\n",
    "        file_content = file_content + \" \".join(word + \"_\" + tag for word, tag in sent) + \"\\n\"\n",
    "    \n",
    "    fileID = fileName.replace(\".txt\", \"\")\n",
    "    posFileName = fileID + \"-pos.txt\"\n",
    "    f = open(outputdir+posFileName, \"w\")\n",
    "    f.write(file_content)\n",
    "    f.close()"
   ]
  }
 ],
 "metadata": {
  "kernelspec": {
   "display_name": "Python 3",
   "language": "python",
   "name": "python3"
  },
  "language_info": {
   "codemirror_mode": {
    "name": "ipython",
    "version": 3
   },
   "file_extension": ".py",
   "mimetype": "text/x-python",
   "name": "python",
   "nbconvert_exporter": "python",
   "pygments_lexer": "ipython3",
   "version": "3.7.6"
  }
 },
 "nbformat": 4,
 "nbformat_minor": 4
}
